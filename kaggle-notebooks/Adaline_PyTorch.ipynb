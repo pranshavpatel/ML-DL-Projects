{
  "nbformat": 4,
  "nbformat_minor": 0,
  "metadata": {
    "colab": {
      "provenance": []
    },
    "kernelspec": {
      "name": "python3",
      "display_name": "Python 3"
    },
    "language_info": {
      "name": "python"
    }
  },
  "cells": [
    {
      "cell_type": "code",
      "execution_count": 3,
      "metadata": {
        "id": "XHuOBOhXVRAV"
      },
      "outputs": [],
      "source": [
        "import pandas as pd\n",
        "import matplotlib.pyplot as plt\n",
        "import torch"
      ]
    },
    {
      "cell_type": "code",
      "source": [
        "df = pd.read_csv('/content/iris.data', index_col=None, header=None)\n",
        "df.columns = ['x1', 'x2', 'x3', 'x4', 'y']\n",
        "df = df.iloc[50:150] # because we are performing a binary classification\n",
        "# and we need only two classes, but iris provides 3 classes\n",
        "df['y'] = df['y'].apply(lambda x: 0 if x == 'Iris-versicolor' else 1)\n",
        "df.tail()"
      ],
      "metadata": {
        "id": "E96GfS4MYOIa",
        "colab": {
          "base_uri": "https://localhost:8080/",
          "height": 206
        },
        "outputId": "5b8cce15-afc5-4931-f7b7-e56811e9e77a"
      },
      "execution_count": 4,
      "outputs": [
        {
          "output_type": "execute_result",
          "data": {
            "text/plain": [
              "      x1   x2   x3   x4  y\n",
              "145  6.7  3.0  5.2  2.3  1\n",
              "146  6.3  2.5  5.0  1.9  1\n",
              "147  6.5  3.0  5.2  2.0  1\n",
              "148  6.2  3.4  5.4  2.3  1\n",
              "149  5.9  3.0  5.1  1.8  1"
            ],
            "text/html": [
              "\n",
              "  <div id=\"df-3e0e6789-9363-4a96-97ae-da60856fb49d\" class=\"colab-df-container\">\n",
              "    <div>\n",
              "<style scoped>\n",
              "    .dataframe tbody tr th:only-of-type {\n",
              "        vertical-align: middle;\n",
              "    }\n",
              "\n",
              "    .dataframe tbody tr th {\n",
              "        vertical-align: top;\n",
              "    }\n",
              "\n",
              "    .dataframe thead th {\n",
              "        text-align: right;\n",
              "    }\n",
              "</style>\n",
              "<table border=\"1\" class=\"dataframe\">\n",
              "  <thead>\n",
              "    <tr style=\"text-align: right;\">\n",
              "      <th></th>\n",
              "      <th>x1</th>\n",
              "      <th>x2</th>\n",
              "      <th>x3</th>\n",
              "      <th>x4</th>\n",
              "      <th>y</th>\n",
              "    </tr>\n",
              "  </thead>\n",
              "  <tbody>\n",
              "    <tr>\n",
              "      <th>145</th>\n",
              "      <td>6.7</td>\n",
              "      <td>3.0</td>\n",
              "      <td>5.2</td>\n",
              "      <td>2.3</td>\n",
              "      <td>1</td>\n",
              "    </tr>\n",
              "    <tr>\n",
              "      <th>146</th>\n",
              "      <td>6.3</td>\n",
              "      <td>2.5</td>\n",
              "      <td>5.0</td>\n",
              "      <td>1.9</td>\n",
              "      <td>1</td>\n",
              "    </tr>\n",
              "    <tr>\n",
              "      <th>147</th>\n",
              "      <td>6.5</td>\n",
              "      <td>3.0</td>\n",
              "      <td>5.2</td>\n",
              "      <td>2.0</td>\n",
              "      <td>1</td>\n",
              "    </tr>\n",
              "    <tr>\n",
              "      <th>148</th>\n",
              "      <td>6.2</td>\n",
              "      <td>3.4</td>\n",
              "      <td>5.4</td>\n",
              "      <td>2.3</td>\n",
              "      <td>1</td>\n",
              "    </tr>\n",
              "    <tr>\n",
              "      <th>149</th>\n",
              "      <td>5.9</td>\n",
              "      <td>3.0</td>\n",
              "      <td>5.1</td>\n",
              "      <td>1.8</td>\n",
              "      <td>1</td>\n",
              "    </tr>\n",
              "  </tbody>\n",
              "</table>\n",
              "</div>\n",
              "    <div class=\"colab-df-buttons\">\n",
              "\n",
              "  <div class=\"colab-df-container\">\n",
              "    <button class=\"colab-df-convert\" onclick=\"convertToInteractive('df-3e0e6789-9363-4a96-97ae-da60856fb49d')\"\n",
              "            title=\"Convert this dataframe to an interactive table.\"\n",
              "            style=\"display:none;\">\n",
              "\n",
              "  <svg xmlns=\"http://www.w3.org/2000/svg\" height=\"24px\" viewBox=\"0 -960 960 960\">\n",
              "    <path d=\"M120-120v-720h720v720H120Zm60-500h600v-160H180v160Zm220 220h160v-160H400v160Zm0 220h160v-160H400v160ZM180-400h160v-160H180v160Zm440 0h160v-160H620v160ZM180-180h160v-160H180v160Zm440 0h160v-160H620v160Z\"/>\n",
              "  </svg>\n",
              "    </button>\n",
              "\n",
              "  <style>\n",
              "    .colab-df-container {\n",
              "      display:flex;\n",
              "      gap: 12px;\n",
              "    }\n",
              "\n",
              "    .colab-df-convert {\n",
              "      background-color: #E8F0FE;\n",
              "      border: none;\n",
              "      border-radius: 50%;\n",
              "      cursor: pointer;\n",
              "      display: none;\n",
              "      fill: #1967D2;\n",
              "      height: 32px;\n",
              "      padding: 0 0 0 0;\n",
              "      width: 32px;\n",
              "    }\n",
              "\n",
              "    .colab-df-convert:hover {\n",
              "      background-color: #E2EBFA;\n",
              "      box-shadow: 0px 1px 2px rgba(60, 64, 67, 0.3), 0px 1px 3px 1px rgba(60, 64, 67, 0.15);\n",
              "      fill: #174EA6;\n",
              "    }\n",
              "\n",
              "    .colab-df-buttons div {\n",
              "      margin-bottom: 4px;\n",
              "    }\n",
              "\n",
              "    [theme=dark] .colab-df-convert {\n",
              "      background-color: #3B4455;\n",
              "      fill: #D2E3FC;\n",
              "    }\n",
              "\n",
              "    [theme=dark] .colab-df-convert:hover {\n",
              "      background-color: #434B5C;\n",
              "      box-shadow: 0px 1px 3px 1px rgba(0, 0, 0, 0.15);\n",
              "      filter: drop-shadow(0px 1px 2px rgba(0, 0, 0, 0.3));\n",
              "      fill: #FFFFFF;\n",
              "    }\n",
              "  </style>\n",
              "\n",
              "    <script>\n",
              "      const buttonEl =\n",
              "        document.querySelector('#df-3e0e6789-9363-4a96-97ae-da60856fb49d button.colab-df-convert');\n",
              "      buttonEl.style.display =\n",
              "        google.colab.kernel.accessAllowed ? 'block' : 'none';\n",
              "\n",
              "      async function convertToInteractive(key) {\n",
              "        const element = document.querySelector('#df-3e0e6789-9363-4a96-97ae-da60856fb49d');\n",
              "        const dataTable =\n",
              "          await google.colab.kernel.invokeFunction('convertToInteractive',\n",
              "                                                    [key], {});\n",
              "        if (!dataTable) return;\n",
              "\n",
              "        const docLinkHtml = 'Like what you see? Visit the ' +\n",
              "          '<a target=\"_blank\" href=https://colab.research.google.com/notebooks/data_table.ipynb>data table notebook</a>'\n",
              "          + ' to learn more about interactive tables.';\n",
              "        element.innerHTML = '';\n",
              "        dataTable['output_type'] = 'display_data';\n",
              "        await google.colab.output.renderOutput(dataTable, element);\n",
              "        const docLink = document.createElement('div');\n",
              "        docLink.innerHTML = docLinkHtml;\n",
              "        element.appendChild(docLink);\n",
              "      }\n",
              "    </script>\n",
              "  </div>\n",
              "\n",
              "\n",
              "<div id=\"df-079a95c8-4015-4880-a0f8-0a79f702dd4a\">\n",
              "  <button class=\"colab-df-quickchart\" onclick=\"quickchart('df-079a95c8-4015-4880-a0f8-0a79f702dd4a')\"\n",
              "            title=\"Suggest charts.\"\n",
              "            style=\"display:none;\">\n",
              "\n",
              "<svg xmlns=\"http://www.w3.org/2000/svg\" height=\"24px\"viewBox=\"0 0 24 24\"\n",
              "     width=\"24px\">\n",
              "    <g>\n",
              "        <path d=\"M19 3H5c-1.1 0-2 .9-2 2v14c0 1.1.9 2 2 2h14c1.1 0 2-.9 2-2V5c0-1.1-.9-2-2-2zM9 17H7v-7h2v7zm4 0h-2V7h2v10zm4 0h-2v-4h2v4z\"/>\n",
              "    </g>\n",
              "</svg>\n",
              "  </button>\n",
              "\n",
              "<style>\n",
              "  .colab-df-quickchart {\n",
              "      --bg-color: #E8F0FE;\n",
              "      --fill-color: #1967D2;\n",
              "      --hover-bg-color: #E2EBFA;\n",
              "      --hover-fill-color: #174EA6;\n",
              "      --disabled-fill-color: #AAA;\n",
              "      --disabled-bg-color: #DDD;\n",
              "  }\n",
              "\n",
              "  [theme=dark] .colab-df-quickchart {\n",
              "      --bg-color: #3B4455;\n",
              "      --fill-color: #D2E3FC;\n",
              "      --hover-bg-color: #434B5C;\n",
              "      --hover-fill-color: #FFFFFF;\n",
              "      --disabled-bg-color: #3B4455;\n",
              "      --disabled-fill-color: #666;\n",
              "  }\n",
              "\n",
              "  .colab-df-quickchart {\n",
              "    background-color: var(--bg-color);\n",
              "    border: none;\n",
              "    border-radius: 50%;\n",
              "    cursor: pointer;\n",
              "    display: none;\n",
              "    fill: var(--fill-color);\n",
              "    height: 32px;\n",
              "    padding: 0;\n",
              "    width: 32px;\n",
              "  }\n",
              "\n",
              "  .colab-df-quickchart:hover {\n",
              "    background-color: var(--hover-bg-color);\n",
              "    box-shadow: 0 1px 2px rgba(60, 64, 67, 0.3), 0 1px 3px 1px rgba(60, 64, 67, 0.15);\n",
              "    fill: var(--button-hover-fill-color);\n",
              "  }\n",
              "\n",
              "  .colab-df-quickchart-complete:disabled,\n",
              "  .colab-df-quickchart-complete:disabled:hover {\n",
              "    background-color: var(--disabled-bg-color);\n",
              "    fill: var(--disabled-fill-color);\n",
              "    box-shadow: none;\n",
              "  }\n",
              "\n",
              "  .colab-df-spinner {\n",
              "    border: 2px solid var(--fill-color);\n",
              "    border-color: transparent;\n",
              "    border-bottom-color: var(--fill-color);\n",
              "    animation:\n",
              "      spin 1s steps(1) infinite;\n",
              "  }\n",
              "\n",
              "  @keyframes spin {\n",
              "    0% {\n",
              "      border-color: transparent;\n",
              "      border-bottom-color: var(--fill-color);\n",
              "      border-left-color: var(--fill-color);\n",
              "    }\n",
              "    20% {\n",
              "      border-color: transparent;\n",
              "      border-left-color: var(--fill-color);\n",
              "      border-top-color: var(--fill-color);\n",
              "    }\n",
              "    30% {\n",
              "      border-color: transparent;\n",
              "      border-left-color: var(--fill-color);\n",
              "      border-top-color: var(--fill-color);\n",
              "      border-right-color: var(--fill-color);\n",
              "    }\n",
              "    40% {\n",
              "      border-color: transparent;\n",
              "      border-right-color: var(--fill-color);\n",
              "      border-top-color: var(--fill-color);\n",
              "    }\n",
              "    60% {\n",
              "      border-color: transparent;\n",
              "      border-right-color: var(--fill-color);\n",
              "    }\n",
              "    80% {\n",
              "      border-color: transparent;\n",
              "      border-right-color: var(--fill-color);\n",
              "      border-bottom-color: var(--fill-color);\n",
              "    }\n",
              "    90% {\n",
              "      border-color: transparent;\n",
              "      border-bottom-color: var(--fill-color);\n",
              "    }\n",
              "  }\n",
              "</style>\n",
              "\n",
              "  <script>\n",
              "    async function quickchart(key) {\n",
              "      const quickchartButtonEl =\n",
              "        document.querySelector('#' + key + ' button');\n",
              "      quickchartButtonEl.disabled = true;  // To prevent multiple clicks.\n",
              "      quickchartButtonEl.classList.add('colab-df-spinner');\n",
              "      try {\n",
              "        const charts = await google.colab.kernel.invokeFunction(\n",
              "            'suggestCharts', [key], {});\n",
              "      } catch (error) {\n",
              "        console.error('Error during call to suggestCharts:', error);\n",
              "      }\n",
              "      quickchartButtonEl.classList.remove('colab-df-spinner');\n",
              "      quickchartButtonEl.classList.add('colab-df-quickchart-complete');\n",
              "    }\n",
              "    (() => {\n",
              "      let quickchartButtonEl =\n",
              "        document.querySelector('#df-079a95c8-4015-4880-a0f8-0a79f702dd4a button');\n",
              "      quickchartButtonEl.style.display =\n",
              "        google.colab.kernel.accessAllowed ? 'block' : 'none';\n",
              "    })();\n",
              "  </script>\n",
              "</div>\n",
              "    </div>\n",
              "  </div>\n"
            ]
          },
          "metadata": {},
          "execution_count": 4
        }
      ]
    },
    {
      "cell_type": "code",
      "source": [
        "# Assign features and target\n",
        "\n",
        "X = torch.tensor(df[['x2', 'x3']].values, dtype=torch.float)\n",
        "y = torch.tensor(df['y'].values, dtype=torch.int)\n",
        "\n",
        "# Shuffling the dataset and splitting it into train/test set\n",
        "torch.manual_seed(123)\n",
        "shuffle_idx = torch.randperm(y.size(0), dtype=torch.long)\n",
        "\n",
        "percent70 = int(0.7*shuffle_idx.size(0))\n",
        "X_train, X_test = X[shuffle_idx[:percent70]], X[shuffle_idx[percent70:]]\n",
        "y_train, y_test = y[shuffle_idx[:percent70]], y[shuffle_idx[percent70:]]\n",
        "\n",
        "# Normalising the data\n",
        "\n",
        "mu, sigma = X_train.mean(dim=0), X_train.std(dim=0)\n",
        "X_train = (X_train - mu) / sigma\n",
        "X_test = (X_test - mu) / sigma"
      ],
      "metadata": {
        "id": "Yfe7srZwZKEA"
      },
      "execution_count": 5,
      "outputs": []
    },
    {
      "cell_type": "code",
      "source": [
        "plt.scatter(X_train[y_train==0, 0], X_train[y_train==0, 1], label='class 0')\n",
        "plt.scatter(X_train[y_train==1, 0], X_train[y_train==1, 1], label='class 1')\n",
        "plt.xlabel('Feature 1')\n",
        "plt.ylabel('Feature 2')\n",
        "plt.legend()\n",
        "plt.show()"
      ],
      "metadata": {
        "id": "ytURnbn_cR_O",
        "colab": {
          "base_uri": "https://localhost:8080/",
          "height": 449
        },
        "outputId": "9655ea09-bbb6-47a2-8293-0a93fc413e6d"
      },
      "execution_count": 6,
      "outputs": [
        {
          "output_type": "display_data",
          "data": {
            "text/plain": [
              "<Figure size 640x480 with 1 Axes>"
            ],
            "image/png": "[encoded data removed]"
          },
          "metadata": {}
        }
      ]
    },
    {
      "cell_type": "code",
      "source": [
        "plt.scatter(X_test[y_test==0,0], X_test[y_test==0,1], label='class 0')\n",
        "plt.scatter(X_test[y_test==1,0], X_test[y_test==1,1], label='class 1')\n",
        "plt.legend()\n",
        "plt.show()"
      ],
      "metadata": {
        "colab": {
          "base_uri": "https://localhost:8080/",
          "height": 430
        },
        "id": "wyC-aoV1dTp0",
        "outputId": "8f0955ba-a113-4007-c909-25ded240ea0b"
      },
      "execution_count": 7,
      "outputs": [
        {
          "output_type": "display_data",
          "data": {
            "text/plain": [
              "<Figure size 640x480 with 1 Axes>"
            ],
            "image/png": "[encoded data removed]"
          },
          "metadata": {}
        }
      ]
    },
    {
      "cell_type": "code",
      "source": [
        "class Adaline():\n",
        "  def __init__(self, num_features):\n",
        "    self.num_features = num_features\n",
        "    self.weights = torch.zeros(num_features, 1, dtype=torch.float)\n",
        "    self.bias = torch.zeros(1, dtype=torch.float)\n",
        "\n",
        "  def activation(self, x):\n",
        "    return x\n",
        "\n",
        "  def forward(self, x):\n",
        "    netinputs = torch.add(torch.mm(x, self.weights), self.bias)\n",
        "    return self.activation(netinputs).view(-1)\n",
        "\n",
        "  def backward(self, x, yhat, y):\n",
        "    grad_loss_yhat = 2*(yhat-y)\n",
        "    grad_yhat_weights = x\n",
        "    grad_yhat_bias = 1.\n",
        "\n",
        "    grad_loss_weights = torch.mm(grad_yhat_weights.t(), grad_loss_yhat.view(-1,1)) / y.size(0)\n",
        "    grad_loss_bias = torch.sum(grad_yhat_bias*grad_loss_yhat) / y.size(0)\n",
        "\n",
        "    return grad_loss_weights, grad_loss_bias"
      ],
      "metadata": {
        "id": "4qhpv20EdpAk"
      },
      "execution_count": 8,
      "outputs": []
    },
    {
      "cell_type": "code",
      "source": [
        "def loss(yhat, y):\n",
        "  return torch.mean((yhat-y)**2)\n",
        "\n",
        "def train(model, x, y, num_epochs, learning_rate=0.01, seed=123, minibatch_size=10):\n",
        "  cost = []\n",
        "  torch.manual_seed(seed)\n",
        "  for e in range(num_epochs):\n",
        "\n",
        "    # Shuffle epoch\n",
        "    shuffle_idx = torch.randperm(y.size(0), dtype=torch.long)\n",
        "    minibatches = torch.split(shuffle_idx, minibatch_size)\n",
        "\n",
        "    for minibatch_idx in minibatches:\n",
        "      yhat = model.forward(x[minibatch_idx])\n",
        "\n",
        "      grad_w, grad_b = model.backward(x[minibatch_idx], yhat, y[minibatch_idx])\n",
        "\n",
        "      model.weights -= learning_rate*grad_w\n",
        "      model.bias -= learning_rate*grad_b\n",
        "\n",
        "      minibatch_loss = loss(yhat, y[minibatch_idx])\n",
        "      print(' Minibatch MSE: %.3f' % minibatch_loss)\n",
        "\n",
        "    yhat = model.forward(x)\n",
        "    curr_loss = loss(yhat, y)\n",
        "    print('Epoch: %03d' % (e+1), end=\"\")\n",
        "    print(' | MSE: %.5f' % curr_loss)\n",
        "    cost.append(curr_loss)\n",
        "\n",
        "  return cost"
      ],
      "metadata": {
        "id": "rEuOKje6gC9Q"
      },
      "execution_count": 9,
      "outputs": []
    },
    {
      "cell_type": "code",
      "source": [
        "model = Adaline(num_features=X_train.size(1))\n",
        "cost = train(model,\n",
        "             X_train, y_train.float(),\n",
        "             num_epochs=20,\n",
        "             learning_rate=0.1,\n",
        "             seed=123,\n",
        "             minibatch_size=10)"
      ],
      "metadata": {
        "id": "MS6fUiRtjbRH",
        "colab": {
          "base_uri": "https://localhost:8080/"
        },
        "outputId": "938c637a-a6f6-42ac-812c-5ba7c13a2d58"
      },
      "execution_count": 10,
      "outputs": [
        {
          "output_type": "stream",
          "name": "stdout",
          "text": [
            " Minibatch MSE: 0.500\n",
            " Minibatch MSE: 0.380\n",
            " Minibatch MSE: 0.359\n",
            " Minibatch MSE: 0.229\n",
            " Minibatch MSE: 0.124\n",
            " Minibatch MSE: 0.077\n",
            " Minibatch MSE: 0.170\n",
            "Epoch: 001 | MSE: 0.11116\n",
            " Minibatch MSE: 0.132\n",
            " Minibatch MSE: 0.083\n",
            " Minibatch MSE: 0.203\n",
            " Minibatch MSE: 0.090\n",
            " Minibatch MSE: 0.072\n",
            " Minibatch MSE: 0.072\n",
            " Minibatch MSE: 0.057\n",
            "Epoch: 002 | MSE: 0.08688\n",
            " Minibatch MSE: 0.148\n",
            " Minibatch MSE: 0.072\n",
            " Minibatch MSE: 0.084\n",
            " Minibatch MSE: 0.101\n",
            " Minibatch MSE: 0.092\n",
            " Minibatch MSE: 0.058\n",
            " Minibatch MSE: 0.061\n",
            "Epoch: 003 | MSE: 0.08089\n",
            " Minibatch MSE: 0.125\n",
            " Minibatch MSE: 0.072\n",
            " Minibatch MSE: 0.046\n",
            " Minibatch MSE: 0.039\n",
            " Minibatch MSE: 0.096\n",
            " Minibatch MSE: 0.093\n",
            " Minibatch MSE: 0.109\n",
            "Epoch: 004 | MSE: 0.07967\n",
            " Minibatch MSE: 0.136\n",
            " Minibatch MSE: 0.075\n",
            " Minibatch MSE: 0.065\n",
            " Minibatch MSE: 0.084\n",
            " Minibatch MSE: 0.085\n",
            " Minibatch MSE: 0.085\n",
            " Minibatch MSE: 0.056\n",
            "Epoch: 005 | MSE: 0.08042\n",
            " Minibatch MSE: 0.092\n",
            " Minibatch MSE: 0.079\n",
            " Minibatch MSE: 0.040\n",
            " Minibatch MSE: 0.047\n",
            " Minibatch MSE: 0.142\n",
            " Minibatch MSE: 0.114\n",
            " Minibatch MSE: 0.059\n",
            "Epoch: 006 | MSE: 0.08087\n",
            " Minibatch MSE: 0.097\n",
            " Minibatch MSE: 0.090\n",
            " Minibatch MSE: 0.032\n",
            " Minibatch MSE: 0.079\n",
            " Minibatch MSE: 0.089\n",
            " Minibatch MSE: 0.088\n",
            " Minibatch MSE: 0.101\n",
            "Epoch: 007 | MSE: 0.08035\n",
            " Minibatch MSE: 0.059\n",
            " Minibatch MSE: 0.175\n",
            " Minibatch MSE: 0.063\n",
            " Minibatch MSE: 0.071\n",
            " Minibatch MSE: 0.053\n",
            " Minibatch MSE: 0.096\n",
            " Minibatch MSE: 0.052\n",
            "Epoch: 008 | MSE: 0.07927\n",
            " Minibatch MSE: 0.131\n",
            " Minibatch MSE: 0.036\n",
            " Minibatch MSE: 0.096\n",
            " Minibatch MSE: 0.076\n",
            " Minibatch MSE: 0.099\n",
            " Minibatch MSE: 0.054\n",
            " Minibatch MSE: 0.087\n",
            "Epoch: 009 | MSE: 0.08001\n",
            " Minibatch MSE: 0.084\n",
            " Minibatch MSE: 0.082\n",
            " Minibatch MSE: 0.068\n",
            " Minibatch MSE: 0.070\n",
            " Minibatch MSE: 0.110\n",
            " Minibatch MSE: 0.054\n",
            " Minibatch MSE: 0.114\n",
            "Epoch: 010 | MSE: 0.07932\n",
            " Minibatch MSE: 0.051\n",
            " Minibatch MSE: 0.072\n",
            " Minibatch MSE: 0.132\n",
            " Minibatch MSE: 0.050\n",
            " Minibatch MSE: 0.067\n",
            " Minibatch MSE: 0.088\n",
            " Minibatch MSE: 0.105\n",
            "Epoch: 011 | MSE: 0.08051\n",
            " Minibatch MSE: 0.101\n",
            " Minibatch MSE: 0.105\n",
            " Minibatch MSE: 0.034\n",
            " Minibatch MSE: 0.105\n",
            " Minibatch MSE: 0.060\n",
            " Minibatch MSE: 0.096\n",
            " Minibatch MSE: 0.084\n",
            "Epoch: 012 | MSE: 0.07954\n",
            " Minibatch MSE: 0.082\n",
            " Minibatch MSE: 0.172\n",
            " Minibatch MSE: 0.035\n",
            " Minibatch MSE: 0.107\n",
            " Minibatch MSE: 0.079\n",
            " Minibatch MSE: 0.020\n",
            " Minibatch MSE: 0.075\n",
            "Epoch: 013 | MSE: 0.07940\n",
            " Minibatch MSE: 0.099\n",
            " Minibatch MSE: 0.074\n",
            " Minibatch MSE: 0.084\n",
            " Minibatch MSE: 0.040\n",
            " Minibatch MSE: 0.065\n",
            " Minibatch MSE: 0.095\n",
            " Minibatch MSE: 0.112\n",
            "Epoch: 014 | MSE: 0.07942\n",
            " Minibatch MSE: 0.103\n",
            " Minibatch MSE: 0.081\n",
            " Minibatch MSE: 0.048\n",
            " Minibatch MSE: 0.124\n",
            " Minibatch MSE: 0.050\n",
            " Minibatch MSE: 0.097\n",
            " Minibatch MSE: 0.088\n",
            "Epoch: 015 | MSE: 0.07951\n",
            " Minibatch MSE: 0.079\n",
            " Minibatch MSE: 0.075\n",
            " Minibatch MSE: 0.101\n",
            " Minibatch MSE: 0.046\n",
            " Minibatch MSE: 0.041\n",
            " Minibatch MSE: 0.138\n",
            " Minibatch MSE: 0.101\n",
            "Epoch: 016 | MSE: 0.07978\n",
            " Minibatch MSE: 0.077\n",
            " Minibatch MSE: 0.143\n",
            " Minibatch MSE: 0.109\n",
            " Minibatch MSE: 0.063\n",
            " Minibatch MSE: 0.077\n",
            " Minibatch MSE: 0.037\n",
            " Minibatch MSE: 0.057\n",
            "Epoch: 017 | MSE: 0.08132\n",
            " Minibatch MSE: 0.068\n",
            " Minibatch MSE: 0.041\n",
            " Minibatch MSE: 0.090\n",
            " Minibatch MSE: 0.097\n",
            " Minibatch MSE: 0.096\n",
            " Minibatch MSE: 0.083\n",
            " Minibatch MSE: 0.098\n",
            "Epoch: 018 | MSE: 0.07934\n",
            " Minibatch MSE: 0.073\n",
            " Minibatch MSE: 0.128\n",
            " Minibatch MSE: 0.065\n",
            " Minibatch MSE: 0.083\n",
            " Minibatch MSE: 0.063\n",
            " Minibatch MSE: 0.088\n",
            " Minibatch MSE: 0.082\n",
            "Epoch: 019 | MSE: 0.08082\n",
            " Minibatch MSE: 0.087\n",
            " Minibatch MSE: 0.124\n",
            " Minibatch MSE: 0.077\n",
            " Minibatch MSE: 0.082\n",
            " Minibatch MSE: 0.069\n",
            " Minibatch MSE: 0.082\n",
            " Minibatch MSE: 0.047\n",
            "Epoch: 020 | MSE: 0.07935\n"
          ]
        }
      ]
    },
    {
      "cell_type": "markdown",
      "source": [
        "# Evaluate the ADALINE Model"
      ],
      "metadata": {
        "id": "niIWlX5bkm86"
      }
    },
    {
      "cell_type": "markdown",
      "source": [
        "### Plot Loss (MSE)"
      ],
      "metadata": {
        "id": "jId_ppDckrwW"
      }
    },
    {
      "cell_type": "code",
      "source": [
        "plt.plot(range(len(cost)), cost)\n",
        "plt.ylabel('Mean Squared Error')\n",
        "plt.xlabel('Epoch')\n",
        "plt.show()"
      ],
      "metadata": {
        "colab": {
          "base_uri": "https://localhost:8080/",
          "height": 449
        },
        "id": "TGKc2Ie0kNmE",
        "outputId": "cc1eb994-6519-4e80-8c3e-8e7338e5e2ce"
      },
      "execution_count": 11,
      "outputs": [
        {
          "output_type": "display_data",
          "data": {
            "text/plain": [
              "<Figure size 640x480 with 1 Axes>"
            ],
            "image/png": "[encoded data removed]"
          },
          "metadata": {}
        }
      ]
    },
    {
      "cell_type": "code",
      "source": [
        "ones = torch.ones(y_train.size())\n",
        "zeros = torch.zeros(y_train.size())\n",
        "train_pred = model.forward(X_train)\n",
        "train_acc = torch.mean(\n",
        "    (torch.where(train_pred > 0.5,\n",
        "                 ones,\n",
        "                 zeros).int() == y_train).float())\n",
        "\n",
        "ones = torch.ones(y_test.size())\n",
        "zeros = torch.zeros(y_test.size())\n",
        "test_pred = model.forward(X_test)\n",
        "test_acc = torch.mean(\n",
        "    (torch.where(test_pred > 0.5,\n",
        "                 ones,\n",
        "                 zeros).int() == y_test).float())\n",
        "\n",
        "print('Training Accuracy: %.2f' % (train_acc*100))\n",
        "print('Test Accuracy: %.2f' % (test_acc*100))"
      ],
      "metadata": {
        "colab": {
          "base_uri": "https://localhost:8080/"
        },
        "id": "2e9qwUMUmSOz",
        "outputId": "a7d17d23-3996-48e9-9e3d-24a5e1963697"
      },
      "execution_count": 12,
      "outputs": [
        {
          "output_type": "stream",
          "name": "stdout",
          "text": [
            "Training Accuracy: 92.86\n",
            "Test Accuracy: 93.33\n"
          ]
        }
      ]
    },
    {
      "cell_type": "code",
      "source": [
        "##########################\n",
        "### 2D Decision Boundary\n",
        "##########################\n",
        "\n",
        "w, b = model.weights, model.bias - 0.5\n",
        "\n",
        "x_min = -3\n",
        "y_min = ( (-(w[0] * x_min) - b[0])\n",
        "          / w[1] )\n",
        "\n",
        "x_max = 3\n",
        "y_max = ( (-(w[0] * x_max) - b[0])\n",
        "          / w[1] )\n",
        "\n",
        "\n",
        "fig, ax = plt.subplots(1, 2, sharex=True, figsize=(7, 3))\n",
        "\n",
        "ax[0].plot([x_min, x_max], [y_min, y_max])\n",
        "ax[1].plot([x_min, x_max], [y_min, y_max])\n",
        "\n",
        "ax[0].scatter(X_train[y_train==0, 0], X_train[y_train==0, 1], label='class 0', marker='o')\n",
        "ax[0].scatter(X_train[y_train==1, 0], X_train[y_train==1, 1], label='class 1', marker='s')\n",
        "\n",
        "ax[1].scatter(X_test[y_test==0, 0], X_test[y_test==0, 1], label='class 0', marker='o')\n",
        "ax[1].scatter(X_test[y_test==1, 0], X_test[y_test==1, 1], label='class 1', marker='s')\n",
        "\n",
        "ax[1].legend(loc='upper left')\n",
        "plt.show()"
      ],
      "metadata": {
        "colab": {
          "base_uri": "https://localhost:8080/",
          "height": 382
        },
        "id": "Ida7Y5Xiuw8s",
        "outputId": "b4bc885a-859a-40a2-929c-bad754b52f84"
      },
      "execution_count": 13,
      "outputs": [
        {
          "output_type": "stream",
          "name": "stderr",
          "text": [
            "/usr/local/lib/python3.10/dist-packages/numpy/core/shape_base.py:65: FutureWarning: The input object of type 'Tensor' is an array-like implementing one of the corresponding protocols (`__array__`, `__array_interface__` or `__array_struct__`); but not a sequence (or 0-D). In the future, this object will be coerced as if it was first converted using `np.array(obj)`. To retain the old behaviour, you have to either modify the type 'Tensor', or assign to an empty array created with `np.empty(correct_shape, dtype=object)`.\n",
            "  ary = asanyarray(ary)\n",
            "/usr/local/lib/python3.10/dist-packages/numpy/core/shape_base.py:65: VisibleDeprecationWarning: Creating an ndarray from ragged nested sequences (which is a list-or-tuple of lists-or-tuples-or ndarrays with different lengths or shapes) is deprecated. If you meant to do this, you must specify 'dtype=object' when creating the ndarray.\n",
            "  ary = asanyarray(ary)\n"
          ]
        },
        {
          "output_type": "display_data",
          "data": {
            "text/plain": [
              "<Figure size 700x300 with 2 Axes>"
            ],
            "image/png": "[encoded data removed]"
          },
          "metadata": {}
        }
      ]
    },
    {
      "cell_type": "markdown",
      "source": [
        "# ADALINE with PyTorch Autograd"
      ],
      "metadata": {
        "id": "oE-0b823x4lH"
      }
    },
    {
      "cell_type": "code",
      "source": [
        "import torch\n",
        "from torch.autograd import grad\n",
        "import torch.nn.functional as F\n",
        "import matplotlib.pyplot as plt"
      ],
      "metadata": {
        "id": "A5-ck-eIx8e0"
      },
      "execution_count": 18,
      "outputs": []
    },
    {
      "cell_type": "code",
      "source": [
        "# Using the same dataset\n",
        "X.size(), y.size()"
      ],
      "metadata": {
        "colab": {
          "base_uri": "https://localhost:8080/"
        },
        "id": "vO9e2eJiyGL2",
        "outputId": "20851b79-b4b4-41ad-ce55-c7e4e1d31b5a"
      },
      "execution_count": 21,
      "outputs": [
        {
          "output_type": "execute_result",
          "data": {
            "text/plain": [
              "(torch.Size([100, 2]), torch.Size([100]))"
            ]
          },
          "metadata": {},
          "execution_count": 21
        }
      ]
    },
    {
      "cell_type": "code",
      "source": [
        "X_train.size(), X_test.size()"
      ],
      "metadata": {
        "colab": {
          "base_uri": "https://localhost:8080/"
        },
        "id": "ypps5OMQydSD",
        "outputId": "d07026f6-66c1-442a-ff70-80f42e5e14c3"
      },
      "execution_count": 22,
      "outputs": [
        {
          "output_type": "execute_result",
          "data": {
            "text/plain": [
              "(torch.Size([70, 2]), torch.Size([30, 2]))"
            ]
          },
          "metadata": {},
          "execution_count": 22
        }
      ]
    },
    {
      "cell_type": "code",
      "source": [
        "y_train.size(), y_test.size()"
      ],
      "metadata": {
        "colab": {
          "base_uri": "https://localhost:8080/"
        },
        "id": "WhXinDu8ykHs",
        "outputId": "4e8ca8e1-d7be-44a5-be21-aad5325f53fc"
      },
      "execution_count": 23,
      "outputs": [
        {
          "output_type": "execute_result",
          "data": {
            "text/plain": [
              "(torch.Size([70]), torch.Size([30]))"
            ]
          },
          "metadata": {},
          "execution_count": 23
        }
      ]
    },
    {
      "cell_type": "code",
      "source": [
        "class Adaline_auto(torch.nn.Module):\n",
        "  def __init__(self, num_features):\n",
        "    super(Adaline_auto, self).__init__()\n",
        "    self.linear = torch.nn.Linear(num_features, 1)\n",
        "\n",
        "  def forward(self, x):\n",
        "    netinputs = self.linear(x)\n",
        "    activations = netinputs\n",
        "    return activations.view(-1)\n",
        "\n",
        "  # Since we are using the Pytorch autograd function, we need not define a backward fxn\n",
        "  # pytorch's autograd function does that for us"
      ],
      "metadata": {
        "id": "BmdsMa6synhV"
      },
      "execution_count": 24,
      "outputs": []
    },
    {
      "cell_type": "code",
      "source": [
        "def train(model, x, y, num_epochs,\n",
        "          learning_rate=0.01, seed=123, minibatch_size=10):\n",
        "  cost = []\n",
        "  torch.manual_seed(seed)\n",
        "  optimizer = torch.optim.SGD(model.parameters(), lr=learning_rate)\n",
        "\n",
        "  for e in range(num_epochs):\n",
        "    shuffle_idx = torch.randperm(y.size(0), dtype=torch.long)\n",
        "    minibatches = torch.split(shuffle_idx, minibatch_size)\n",
        "\n",
        "    for minibatch_idx in minibatches:\n",
        "\n",
        "      # compute outputs\n",
        "      yhat = model.forward(x[minibatch_idx])\n",
        "      # computing the loss, manual loss function can also be used instead\n",
        "      loss = F.mse_loss(yhat, y[minibatch_idx])\n",
        "\n",
        "      ## resetting the gradients from the previous iteration ##\n",
        "      optimizer.zero_grad()\n",
        "\n",
        "      ## compute the gradients using autograds backward utility function ##\n",
        "      loss.backward()\n",
        "\n",
        "      # update the weights\n",
        "      optimizer.step()\n",
        "\n",
        "    # using the no_grad() fxn to avoid the unnecessary computation cost\n",
        "    # aboid building graph during 'inference' to save memory\n",
        "    with torch.no_grad():\n",
        "      yhat = model.forward(x)\n",
        "      curr_loss = F.mse_loss(yhat, y)\n",
        "      print('Epoch: %03d' % (e+1), end=\"\")\n",
        "      print(' | MSE: %.5f' % curr_loss)\n",
        "      cost.append(curr_loss)\n",
        "  return cost"
      ],
      "metadata": {
        "id": "gm3y0gsL0iSN"
      },
      "execution_count": 25,
      "outputs": []
    },
    {
      "cell_type": "code",
      "source": [
        "model = Adaline_auto(num_features=X_train.size(1))\n",
        "cost = train(model,\n",
        "             X_train, y_train.float(),\n",
        "             num_epochs=20,\n",
        "             learning_rate=0.01,\n",
        "             seed=123,\n",
        "             minibatch_size=10)"
      ],
      "metadata": {
        "colab": {
          "base_uri": "https://localhost:8080/"
        },
        "id": "5iQUAyhC4GP-",
        "outputId": "b74e26a9-2108-4b50-b7e1-ab92f7400e61"
      },
      "execution_count": 26,
      "outputs": [
        {
          "output_type": "stream",
          "name": "stdout",
          "text": [
            "Epoch: 001 | MSE: 0.12368\n",
            "Epoch: 002 | MSE: 0.10931\n",
            "Epoch: 003 | MSE: 0.09963\n",
            "Epoch: 004 | MSE: 0.09326\n",
            "Epoch: 005 | MSE: 0.08878\n",
            "Epoch: 006 | MSE: 0.08577\n",
            "Epoch: 007 | MSE: 0.08373\n",
            "Epoch: 008 | MSE: 0.08240\n",
            "Epoch: 009 | MSE: 0.08147\n",
            "Epoch: 010 | MSE: 0.08082\n",
            "Epoch: 011 | MSE: 0.08038\n",
            "Epoch: 012 | MSE: 0.08005\n",
            "Epoch: 013 | MSE: 0.07982\n",
            "Epoch: 014 | MSE: 0.07965\n",
            "Epoch: 015 | MSE: 0.07953\n",
            "Epoch: 016 | MSE: 0.07944\n",
            "Epoch: 017 | MSE: 0.07938\n",
            "Epoch: 018 | MSE: 0.07932\n",
            "Epoch: 019 | MSE: 0.07928\n",
            "Epoch: 020 | MSE: 0.07925\n"
          ]
        }
      ]
    },
    {
      "cell_type": "code",
      "source": [
        "plt.plot(range(len(cost)), cost)\n",
        "plt.ylabel('Mean Squared Error')\n",
        "plt.xlabel('Epoch')\n",
        "plt.show()"
      ],
      "metadata": {
        "colab": {
          "base_uri": "https://localhost:8080/",
          "height": 449
        },
        "id": "SU7gBrLQ4ZTT",
        "outputId": "f2ab0254-3793-4fc2-ce27-e266663671d9"
      },
      "execution_count": 27,
      "outputs": [
        {
          "output_type": "display_data",
          "data": {
            "text/plain": [
              "<Figure size 640x480 with 1 Axes>"
            ],
            "image/png": "[encoded data removed]"
          },
          "metadata": {}
        }
      ]
    },
    {
      "cell_type": "code",
      "source": [
        "ones = torch.ones(y_train.size())\n",
        "zeros = torch.zeros(y_train.size())\n",
        "train_pred = model.forward(X_train)\n",
        "train_acc = torch.mean(\n",
        "    (torch.where(train_pred > 0.5,\n",
        "                 ones,\n",
        "                 zeros).int() == y_train).float())\n",
        "\n",
        "ones = torch.ones(y_test.size())\n",
        "zeros = torch.zeros(y_test.size())\n",
        "test_pred = model.forward(X_test)\n",
        "test_acc = torch.mean(\n",
        "    (torch.where(test_pred > 0.5,\n",
        "                 ones,\n",
        "                 zeros).int() == y_test).float())\n",
        "\n",
        "print('Training Accuracy: %.2f' % (train_acc*100))\n",
        "print('Test Accuracy: %.2f' % (test_acc*100))"
      ],
      "metadata": {
        "colab": {
          "base_uri": "https://localhost:8080/"
        },
        "id": "VcQC5L3A408r",
        "outputId": "8f6f13fb-37fa-4951-c8d4-645e99dfb7fa"
      },
      "execution_count": 28,
      "outputs": [
        {
          "output_type": "stream",
          "name": "stdout",
          "text": [
            "Training Accuracy: 91.43\n",
            "Test Accuracy: 93.33\n"
          ]
        }
      ]
    },
    {
      "cell_type": "code",
      "source": [],
      "metadata": {
        "id": "2Hkqxk695APg"
      },
      "execution_count": null,
      "outputs": []
    }
  ]
}