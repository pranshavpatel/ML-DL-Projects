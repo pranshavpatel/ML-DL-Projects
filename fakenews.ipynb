{
 "cells": [
  {
   "cell_type": "code",
   "execution_count": 1,
   "id": "9f39dac7",
   "metadata": {},
   "outputs": [],
   "source": [
    "import pandas as pd\n",
    "import numpy as np\n",
    "import matplotlib.pyplot as plt\n",
    "import seaborn as sns \n",
    "from sklearn.feature_extraction.text import CountVectorizer\n",
    "from sklearn.feature_extraction.text import TfidfTransformer\n",
    "from sklearn import feature_extraction, linear_model, model_selection, preprocessing\n",
    "from sklearn.metrics import accuracy_score\n",
    "from sklearn.model_selection import train_test_split\n",
    "from sklearn.pipeline import Pipeline"
   ]
  },
  {
   "cell_type": "code",
   "execution_count": 2,
   "id": "21d8bc34",
   "metadata": {},
   "outputs": [],
   "source": [
    "fake = pd.read_csv(\"/Users/pranshav/Desktop/psc-innovative/Fake.csv\")\n",
    "true = pd.read_csv(\"/Users/pranshav/Desktop/psc-innovative/True.csv\")"
   ]
  },
  {
   "cell_type": "code",
   "execution_count": 3,
   "id": "6d04d144",
   "metadata": {},
   "outputs": [
    {
     "data": {
      "text/html": [
       "<div>\n",
       "<style scoped>\n",
       "    .dataframe tbody tr th:only-of-type {\n",
       "        vertical-align: middle;\n",
       "    }\n",
       "\n",
       "    .dataframe tbody tr th {\n",
       "        vertical-align: top;\n",
       "    }\n",
       "\n",
       "    .dataframe thead th {\n",
       "        text-align: right;\n",
       "    }\n",
       "</style>\n",
       "<table border=\"1\" class=\"dataframe\">\n",
       "  <thead>\n",
       "    <tr style=\"text-align: right;\">\n",
       "      <th></th>\n",
       "      <th>title</th>\n",
       "      <th>text</th>\n",
       "      <th>subject</th>\n",
       "      <th>date</th>\n",
       "      <th>target</th>\n",
       "    </tr>\n",
       "  </thead>\n",
       "  <tbody>\n",
       "    <tr>\n",
       "      <th>0</th>\n",
       "      <td>As U.S. budget fight looms, Republicans flip t...</td>\n",
       "      <td>WASHINGTON (Reuters) - The head of a conservat...</td>\n",
       "      <td>politicsNews</td>\n",
       "      <td>December 31, 2017</td>\n",
       "      <td>true</td>\n",
       "    </tr>\n",
       "    <tr>\n",
       "      <th>1</th>\n",
       "      <td>U.S. military to accept transgender recruits o...</td>\n",
       "      <td>WASHINGTON (Reuters) - Transgender people will...</td>\n",
       "      <td>politicsNews</td>\n",
       "      <td>December 29, 2017</td>\n",
       "      <td>true</td>\n",
       "    </tr>\n",
       "    <tr>\n",
       "      <th>2</th>\n",
       "      <td>Senior U.S. Republican senator: 'Let Mr. Muell...</td>\n",
       "      <td>WASHINGTON (Reuters) - The special counsel inv...</td>\n",
       "      <td>politicsNews</td>\n",
       "      <td>December 31, 2017</td>\n",
       "      <td>true</td>\n",
       "    </tr>\n",
       "    <tr>\n",
       "      <th>3</th>\n",
       "      <td>FBI Russia probe helped by Australian diplomat...</td>\n",
       "      <td>WASHINGTON (Reuters) - Trump campaign adviser ...</td>\n",
       "      <td>politicsNews</td>\n",
       "      <td>December 30, 2017</td>\n",
       "      <td>true</td>\n",
       "    </tr>\n",
       "    <tr>\n",
       "      <th>4</th>\n",
       "      <td>Trump wants Postal Service to charge 'much mor...</td>\n",
       "      <td>SEATTLE/WASHINGTON (Reuters) - President Donal...</td>\n",
       "      <td>politicsNews</td>\n",
       "      <td>December 29, 2017</td>\n",
       "      <td>true</td>\n",
       "    </tr>\n",
       "  </tbody>\n",
       "</table>\n",
       "</div>"
      ],
      "text/plain": [
       "                                               title  \\\n",
       "0  As U.S. budget fight looms, Republicans flip t...   \n",
       "1  U.S. military to accept transgender recruits o...   \n",
       "2  Senior U.S. Republican senator: 'Let Mr. Muell...   \n",
       "3  FBI Russia probe helped by Australian diplomat...   \n",
       "4  Trump wants Postal Service to charge 'much mor...   \n",
       "\n",
       "                                                text       subject  \\\n",
       "0  WASHINGTON (Reuters) - The head of a conservat...  politicsNews   \n",
       "1  WASHINGTON (Reuters) - Transgender people will...  politicsNews   \n",
       "2  WASHINGTON (Reuters) - The special counsel inv...  politicsNews   \n",
       "3  WASHINGTON (Reuters) - Trump campaign adviser ...  politicsNews   \n",
       "4  SEATTLE/WASHINGTON (Reuters) - President Donal...  politicsNews   \n",
       "\n",
       "                 date target  \n",
       "0  December 31, 2017    true  \n",
       "1  December 29, 2017    true  \n",
       "2  December 31, 2017    true  \n",
       "3  December 30, 2017    true  \n",
       "4  December 29, 2017    true  "
      ]
     },
     "execution_count": 3,
     "metadata": {},
     "output_type": "execute_result"
    }
   ],
   "source": [
    "# Add flag to track fake and real\n",
    "fake['target'] = 'fake'\n",
    "true['target'] = 'true'\n",
    "fake.head()\n",
    "true.head()"
   ]
  },
  {
   "cell_type": "code",
   "execution_count": 4,
   "id": "0278648f",
   "metadata": {},
   "outputs": [
    {
     "data": {
      "text/html": [
       "<div>\n",
       "<style scoped>\n",
       "    .dataframe tbody tr th:only-of-type {\n",
       "        vertical-align: middle;\n",
       "    }\n",
       "\n",
       "    .dataframe tbody tr th {\n",
       "        vertical-align: top;\n",
       "    }\n",
       "\n",
       "    .dataframe thead th {\n",
       "        text-align: right;\n",
       "    }\n",
       "</style>\n",
       "<table border=\"1\" class=\"dataframe\">\n",
       "  <thead>\n",
       "    <tr style=\"text-align: right;\">\n",
       "      <th></th>\n",
       "      <th>title</th>\n",
       "      <th>text</th>\n",
       "      <th>subject</th>\n",
       "      <th>date</th>\n",
       "      <th>target</th>\n",
       "    </tr>\n",
       "  </thead>\n",
       "  <tbody>\n",
       "    <tr>\n",
       "      <th>44893</th>\n",
       "      <td>'Fully committed' NATO backs new U.S. approach...</td>\n",
       "      <td>BRUSSELS (Reuters) - NATO allies on Tuesday we...</td>\n",
       "      <td>worldnews</td>\n",
       "      <td>August 22, 2017</td>\n",
       "      <td>true</td>\n",
       "    </tr>\n",
       "    <tr>\n",
       "      <th>44894</th>\n",
       "      <td>LexisNexis withdrew two products from Chinese ...</td>\n",
       "      <td>LONDON (Reuters) - LexisNexis, a provider of l...</td>\n",
       "      <td>worldnews</td>\n",
       "      <td>August 22, 2017</td>\n",
       "      <td>true</td>\n",
       "    </tr>\n",
       "    <tr>\n",
       "      <th>44895</th>\n",
       "      <td>Minsk cultural hub becomes haven from authorities</td>\n",
       "      <td>MINSK (Reuters) - In the shadow of disused Sov...</td>\n",
       "      <td>worldnews</td>\n",
       "      <td>August 22, 2017</td>\n",
       "      <td>true</td>\n",
       "    </tr>\n",
       "    <tr>\n",
       "      <th>44896</th>\n",
       "      <td>Vatican upbeat on possibility of Pope Francis ...</td>\n",
       "      <td>MOSCOW (Reuters) - Vatican Secretary of State ...</td>\n",
       "      <td>worldnews</td>\n",
       "      <td>August 22, 2017</td>\n",
       "      <td>true</td>\n",
       "    </tr>\n",
       "    <tr>\n",
       "      <th>44897</th>\n",
       "      <td>Indonesia to buy $1.14 billion worth of Russia...</td>\n",
       "      <td>JAKARTA (Reuters) - Indonesia will buy 11 Sukh...</td>\n",
       "      <td>worldnews</td>\n",
       "      <td>August 22, 2017</td>\n",
       "      <td>true</td>\n",
       "    </tr>\n",
       "  </tbody>\n",
       "</table>\n",
       "</div>"
      ],
      "text/plain": [
       "                                                   title  \\\n",
       "44893  'Fully committed' NATO backs new U.S. approach...   \n",
       "44894  LexisNexis withdrew two products from Chinese ...   \n",
       "44895  Minsk cultural hub becomes haven from authorities   \n",
       "44896  Vatican upbeat on possibility of Pope Francis ...   \n",
       "44897  Indonesia to buy $1.14 billion worth of Russia...   \n",
       "\n",
       "                                                    text    subject  \\\n",
       "44893  BRUSSELS (Reuters) - NATO allies on Tuesday we...  worldnews   \n",
       "44894  LONDON (Reuters) - LexisNexis, a provider of l...  worldnews   \n",
       "44895  MINSK (Reuters) - In the shadow of disused Sov...  worldnews   \n",
       "44896  MOSCOW (Reuters) - Vatican Secretary of State ...  worldnews   \n",
       "44897  JAKARTA (Reuters) - Indonesia will buy 11 Sukh...  worldnews   \n",
       "\n",
       "                   date target  \n",
       "44893  August 22, 2017    true  \n",
       "44894  August 22, 2017    true  \n",
       "44895  August 22, 2017    true  \n",
       "44896  August 22, 2017    true  \n",
       "44897  August 22, 2017    true  "
      ]
     },
     "execution_count": 4,
     "metadata": {},
     "output_type": "execute_result"
    }
   ],
   "source": [
    "# Concatenate dataframes\n",
    "data = pd.concat([fake, true]).reset_index(drop = True)\n",
    "data.shape\n",
    "data.head(5)\n",
    "data.tail(5)"
   ]
  },
  {
   "cell_type": "code",
   "execution_count": 5,
   "id": "1f151483",
   "metadata": {},
   "outputs": [
    {
     "data": {
      "text/html": [
       "<div>\n",
       "<style scoped>\n",
       "    .dataframe tbody tr th:only-of-type {\n",
       "        vertical-align: middle;\n",
       "    }\n",
       "\n",
       "    .dataframe tbody tr th {\n",
       "        vertical-align: top;\n",
       "    }\n",
       "\n",
       "    .dataframe thead th {\n",
       "        text-align: right;\n",
       "    }\n",
       "</style>\n",
       "<table border=\"1\" class=\"dataframe\">\n",
       "  <thead>\n",
       "    <tr style=\"text-align: right;\">\n",
       "      <th></th>\n",
       "      <th>title</th>\n",
       "      <th>text</th>\n",
       "      <th>subject</th>\n",
       "      <th>date</th>\n",
       "      <th>target</th>\n",
       "    </tr>\n",
       "  </thead>\n",
       "  <tbody>\n",
       "    <tr>\n",
       "      <th>0</th>\n",
       "      <td>Mexicans very negative on Trump, but back talk...</td>\n",
       "      <td>MEXICO CITY (Reuters) - An overwhelming majori...</td>\n",
       "      <td>politicsNews</td>\n",
       "      <td>November 25, 2016</td>\n",
       "      <td>true</td>\n",
       "    </tr>\n",
       "    <tr>\n",
       "      <th>1</th>\n",
       "      <td>UK's Farage says PM May might not last until C...</td>\n",
       "      <td>BERLIN (Reuters) - Brexit campaigner Nigel Far...</td>\n",
       "      <td>worldnews</td>\n",
       "      <td>September 8, 2017</td>\n",
       "      <td>true</td>\n",
       "    </tr>\n",
       "    <tr>\n",
       "      <th>2</th>\n",
       "      <td>MIKE HUCKABEE: “Somebody Needs To Go To Prison...</td>\n",
       "      <td>Hey mainstream media when are you going to tak...</td>\n",
       "      <td>politics</td>\n",
       "      <td>Mar 6, 2017</td>\n",
       "      <td>fake</td>\n",
       "    </tr>\n",
       "    <tr>\n",
       "      <th>3</th>\n",
       "      <td>Ammon and Ryan Bundy Found ‘Not Guilty’ in Ore...</td>\n",
       "      <td>21st Century Wire Yesterday, Judge Anna Brown ...</td>\n",
       "      <td>Middle-east</td>\n",
       "      <td>October 29, 2016</td>\n",
       "      <td>fake</td>\n",
       "    </tr>\n",
       "    <tr>\n",
       "      <th>4</th>\n",
       "      <td>SICK: Republicans Write Letters Supporting Ch...</td>\n",
       "      <td>Former Speaker of the House Dennis Hastert, wh...</td>\n",
       "      <td>News</td>\n",
       "      <td>April 23, 2016</td>\n",
       "      <td>fake</td>\n",
       "    </tr>\n",
       "  </tbody>\n",
       "</table>\n",
       "</div>"
      ],
      "text/plain": [
       "                                               title  \\\n",
       "0  Mexicans very negative on Trump, but back talk...   \n",
       "1  UK's Farage says PM May might not last until C...   \n",
       "2  MIKE HUCKABEE: “Somebody Needs To Go To Prison...   \n",
       "3  Ammon and Ryan Bundy Found ‘Not Guilty’ in Ore...   \n",
       "4   SICK: Republicans Write Letters Supporting Ch...   \n",
       "\n",
       "                                                text       subject  \\\n",
       "0  MEXICO CITY (Reuters) - An overwhelming majori...  politicsNews   \n",
       "1  BERLIN (Reuters) - Brexit campaigner Nigel Far...     worldnews   \n",
       "2  Hey mainstream media when are you going to tak...      politics   \n",
       "3  21st Century Wire Yesterday, Judge Anna Brown ...   Middle-east   \n",
       "4  Former Speaker of the House Dennis Hastert, wh...          News   \n",
       "\n",
       "                 date target  \n",
       "0  November 25, 2016    true  \n",
       "1  September 8, 2017    true  \n",
       "2         Mar 6, 2017   fake  \n",
       "3    October 29, 2016   fake  \n",
       "4      April 23, 2016   fake  "
      ]
     },
     "execution_count": 5,
     "metadata": {},
     "output_type": "execute_result"
    }
   ],
   "source": [
    "# Shuffle the data\n",
    "from sklearn.utils import shuffle\n",
    "data = shuffle(data)\n",
    "data = data.reset_index(drop=True)\n",
    "# Check the data\n",
    "data.head()"
   ]
  },
  {
   "cell_type": "code",
   "execution_count": 6,
   "id": "d79aa958",
   "metadata": {},
   "outputs": [
    {
     "name": "stdout",
     "output_type": "stream",
     "text": [
      "<class 'pandas.core.frame.DataFrame'>\n",
      "RangeIndex: 44898 entries, 0 to 44897\n",
      "Data columns (total 5 columns):\n",
      " #   Column   Non-Null Count  Dtype \n",
      "---  ------   --------------  ----- \n",
      " 0   title    44898 non-null  object\n",
      " 1   text     44898 non-null  object\n",
      " 2   subject  44898 non-null  object\n",
      " 3   date     44898 non-null  object\n",
      " 4   target   44898 non-null  object\n",
      "dtypes: object(5)\n",
      "memory usage: 1.7+ MB\n"
     ]
    }
   ],
   "source": [
    "data.info()"
   ]
  },
  {
   "cell_type": "code",
   "execution_count": 7,
   "id": "e1114c47",
   "metadata": {},
   "outputs": [
    {
     "data": {
      "text/html": [
       "<div>\n",
       "<style scoped>\n",
       "    .dataframe tbody tr th:only-of-type {\n",
       "        vertical-align: middle;\n",
       "    }\n",
       "\n",
       "    .dataframe tbody tr th {\n",
       "        vertical-align: top;\n",
       "    }\n",
       "\n",
       "    .dataframe thead th {\n",
       "        text-align: right;\n",
       "    }\n",
       "</style>\n",
       "<table border=\"1\" class=\"dataframe\">\n",
       "  <thead>\n",
       "    <tr style=\"text-align: right;\">\n",
       "      <th></th>\n",
       "      <th>title</th>\n",
       "      <th>text</th>\n",
       "      <th>subject</th>\n",
       "      <th>target</th>\n",
       "    </tr>\n",
       "  </thead>\n",
       "  <tbody>\n",
       "    <tr>\n",
       "      <th>0</th>\n",
       "      <td>Mexicans very negative on Trump, but back talk...</td>\n",
       "      <td>MEXICO CITY (Reuters) - An overwhelming majori...</td>\n",
       "      <td>politicsNews</td>\n",
       "      <td>true</td>\n",
       "    </tr>\n",
       "    <tr>\n",
       "      <th>1</th>\n",
       "      <td>UK's Farage says PM May might not last until C...</td>\n",
       "      <td>BERLIN (Reuters) - Brexit campaigner Nigel Far...</td>\n",
       "      <td>worldnews</td>\n",
       "      <td>true</td>\n",
       "    </tr>\n",
       "    <tr>\n",
       "      <th>2</th>\n",
       "      <td>MIKE HUCKABEE: “Somebody Needs To Go To Prison...</td>\n",
       "      <td>Hey mainstream media when are you going to tak...</td>\n",
       "      <td>politics</td>\n",
       "      <td>fake</td>\n",
       "    </tr>\n",
       "    <tr>\n",
       "      <th>3</th>\n",
       "      <td>Ammon and Ryan Bundy Found ‘Not Guilty’ in Ore...</td>\n",
       "      <td>21st Century Wire Yesterday, Judge Anna Brown ...</td>\n",
       "      <td>Middle-east</td>\n",
       "      <td>fake</td>\n",
       "    </tr>\n",
       "    <tr>\n",
       "      <th>4</th>\n",
       "      <td>SICK: Republicans Write Letters Supporting Ch...</td>\n",
       "      <td>Former Speaker of the House Dennis Hastert, wh...</td>\n",
       "      <td>News</td>\n",
       "      <td>fake</td>\n",
       "    </tr>\n",
       "  </tbody>\n",
       "</table>\n",
       "</div>"
      ],
      "text/plain": [
       "                                               title  \\\n",
       "0  Mexicans very negative on Trump, but back talk...   \n",
       "1  UK's Farage says PM May might not last until C...   \n",
       "2  MIKE HUCKABEE: “Somebody Needs To Go To Prison...   \n",
       "3  Ammon and Ryan Bundy Found ‘Not Guilty’ in Ore...   \n",
       "4   SICK: Republicans Write Letters Supporting Ch...   \n",
       "\n",
       "                                                text       subject target  \n",
       "0  MEXICO CITY (Reuters) - An overwhelming majori...  politicsNews   true  \n",
       "1  BERLIN (Reuters) - Brexit campaigner Nigel Far...     worldnews   true  \n",
       "2  Hey mainstream media when are you going to tak...      politics   fake  \n",
       "3  21st Century Wire Yesterday, Judge Anna Brown ...   Middle-east   fake  \n",
       "4  Former Speaker of the House Dennis Hastert, wh...          News   fake  "
      ]
     },
     "execution_count": 7,
     "metadata": {},
     "output_type": "execute_result"
    }
   ],
   "source": [
    "# Removing the date \n",
    "data.drop([\"date\"],axis=1,inplace=True)\n",
    "data.head()"
   ]
  },
  {
   "cell_type": "code",
   "execution_count": 8,
   "id": "9ea6359a",
   "metadata": {},
   "outputs": [
    {
     "data": {
      "text/html": [
       "<div>\n",
       "<style scoped>\n",
       "    .dataframe tbody tr th:only-of-type {\n",
       "        vertical-align: middle;\n",
       "    }\n",
       "\n",
       "    .dataframe tbody tr th {\n",
       "        vertical-align: top;\n",
       "    }\n",
       "\n",
       "    .dataframe thead th {\n",
       "        text-align: right;\n",
       "    }\n",
       "</style>\n",
       "<table border=\"1\" class=\"dataframe\">\n",
       "  <thead>\n",
       "    <tr style=\"text-align: right;\">\n",
       "      <th></th>\n",
       "      <th>text</th>\n",
       "      <th>subject</th>\n",
       "      <th>target</th>\n",
       "    </tr>\n",
       "  </thead>\n",
       "  <tbody>\n",
       "    <tr>\n",
       "      <th>0</th>\n",
       "      <td>MEXICO CITY (Reuters) - An overwhelming majori...</td>\n",
       "      <td>politicsNews</td>\n",
       "      <td>true</td>\n",
       "    </tr>\n",
       "    <tr>\n",
       "      <th>1</th>\n",
       "      <td>BERLIN (Reuters) - Brexit campaigner Nigel Far...</td>\n",
       "      <td>worldnews</td>\n",
       "      <td>true</td>\n",
       "    </tr>\n",
       "    <tr>\n",
       "      <th>2</th>\n",
       "      <td>Hey mainstream media when are you going to tak...</td>\n",
       "      <td>politics</td>\n",
       "      <td>fake</td>\n",
       "    </tr>\n",
       "    <tr>\n",
       "      <th>3</th>\n",
       "      <td>21st Century Wire Yesterday, Judge Anna Brown ...</td>\n",
       "      <td>Middle-east</td>\n",
       "      <td>fake</td>\n",
       "    </tr>\n",
       "    <tr>\n",
       "      <th>4</th>\n",
       "      <td>Former Speaker of the House Dennis Hastert, wh...</td>\n",
       "      <td>News</td>\n",
       "      <td>fake</td>\n",
       "    </tr>\n",
       "  </tbody>\n",
       "</table>\n",
       "</div>"
      ],
      "text/plain": [
       "                                                text       subject target\n",
       "0  MEXICO CITY (Reuters) - An overwhelming majori...  politicsNews   true\n",
       "1  BERLIN (Reuters) - Brexit campaigner Nigel Far...     worldnews   true\n",
       "2  Hey mainstream media when are you going to tak...      politics   fake\n",
       "3  21st Century Wire Yesterday, Judge Anna Brown ...   Middle-east   fake\n",
       "4  Former Speaker of the House Dennis Hastert, wh...          News   fake"
      ]
     },
     "execution_count": 8,
     "metadata": {},
     "output_type": "execute_result"
    }
   ],
   "source": [
    "# Removing the title\n",
    "data.drop([\"title\"],axis=1,inplace=True)\n",
    "data.head()"
   ]
  },
  {
   "cell_type": "code",
   "execution_count": 9,
   "id": "4c423c59",
   "metadata": {},
   "outputs": [
    {
     "data": {
      "text/html": [
       "<div>\n",
       "<style scoped>\n",
       "    .dataframe tbody tr th:only-of-type {\n",
       "        vertical-align: middle;\n",
       "    }\n",
       "\n",
       "    .dataframe tbody tr th {\n",
       "        vertical-align: top;\n",
       "    }\n",
       "\n",
       "    .dataframe thead th {\n",
       "        text-align: right;\n",
       "    }\n",
       "</style>\n",
       "<table border=\"1\" class=\"dataframe\">\n",
       "  <thead>\n",
       "    <tr style=\"text-align: right;\">\n",
       "      <th></th>\n",
       "      <th>text</th>\n",
       "      <th>subject</th>\n",
       "      <th>target</th>\n",
       "    </tr>\n",
       "  </thead>\n",
       "  <tbody>\n",
       "    <tr>\n",
       "      <th>0</th>\n",
       "      <td>mexico city (reuters) - an overwhelming majori...</td>\n",
       "      <td>politicsNews</td>\n",
       "      <td>true</td>\n",
       "    </tr>\n",
       "    <tr>\n",
       "      <th>1</th>\n",
       "      <td>berlin (reuters) - brexit campaigner nigel far...</td>\n",
       "      <td>worldnews</td>\n",
       "      <td>true</td>\n",
       "    </tr>\n",
       "    <tr>\n",
       "      <th>2</th>\n",
       "      <td>hey mainstream media when are you going to tak...</td>\n",
       "      <td>politics</td>\n",
       "      <td>fake</td>\n",
       "    </tr>\n",
       "    <tr>\n",
       "      <th>3</th>\n",
       "      <td>21st century wire yesterday, judge anna brown ...</td>\n",
       "      <td>Middle-east</td>\n",
       "      <td>fake</td>\n",
       "    </tr>\n",
       "    <tr>\n",
       "      <th>4</th>\n",
       "      <td>former speaker of the house dennis hastert, wh...</td>\n",
       "      <td>News</td>\n",
       "      <td>fake</td>\n",
       "    </tr>\n",
       "  </tbody>\n",
       "</table>\n",
       "</div>"
      ],
      "text/plain": [
       "                                                text       subject target\n",
       "0  mexico city (reuters) - an overwhelming majori...  politicsNews   true\n",
       "1  berlin (reuters) - brexit campaigner nigel far...     worldnews   true\n",
       "2  hey mainstream media when are you going to tak...      politics   fake\n",
       "3  21st century wire yesterday, judge anna brown ...   Middle-east   fake\n",
       "4  former speaker of the house dennis hastert, wh...          News   fake"
      ]
     },
     "execution_count": 9,
     "metadata": {},
     "output_type": "execute_result"
    }
   ],
   "source": [
    "# Convert to lowercase\n",
    "\n",
    "data['text'] = data['text'].apply(lambda x: x.lower())\n",
    "data.head()"
   ]
  },
  {
   "cell_type": "code",
   "execution_count": 10,
   "id": "53182232",
   "metadata": {},
   "outputs": [],
   "source": [
    "# Remove punctuation\n",
    "\n",
    "import string\n",
    "\n",
    "def remove_punct(text):\n",
    "    allchar=list(text)\n",
    "    clearstr=\"\"\n",
    "    for i in allchar:\n",
    "        if(i not in string.punctuation):\n",
    "            clearstr+=i\n",
    "    newstr=''.join(clearstr)\n",
    "    return newstr\n",
    "    \n",
    "\n",
    "data['text'] = data['text'].apply(remove_punct)\n"
   ]
  },
  {
   "cell_type": "code",
   "execution_count": 11,
   "id": "f7618ce3",
   "metadata": {},
   "outputs": [
    {
     "data": {
      "text/html": [
       "<div>\n",
       "<style scoped>\n",
       "    .dataframe tbody tr th:only-of-type {\n",
       "        vertical-align: middle;\n",
       "    }\n",
       "\n",
       "    .dataframe tbody tr th {\n",
       "        vertical-align: top;\n",
       "    }\n",
       "\n",
       "    .dataframe thead th {\n",
       "        text-align: right;\n",
       "    }\n",
       "</style>\n",
       "<table border=\"1\" class=\"dataframe\">\n",
       "  <thead>\n",
       "    <tr style=\"text-align: right;\">\n",
       "      <th></th>\n",
       "      <th>text</th>\n",
       "      <th>subject</th>\n",
       "      <th>target</th>\n",
       "    </tr>\n",
       "  </thead>\n",
       "  <tbody>\n",
       "    <tr>\n",
       "      <th>0</th>\n",
       "      <td>mexico city reuters  an overwhelming majority ...</td>\n",
       "      <td>politicsNews</td>\n",
       "      <td>true</td>\n",
       "    </tr>\n",
       "    <tr>\n",
       "      <th>1</th>\n",
       "      <td>berlin reuters  brexit campaigner nigel farage...</td>\n",
       "      <td>worldnews</td>\n",
       "      <td>true</td>\n",
       "    </tr>\n",
       "    <tr>\n",
       "      <th>2</th>\n",
       "      <td>hey mainstream media when are you going to tak...</td>\n",
       "      <td>politics</td>\n",
       "      <td>fake</td>\n",
       "    </tr>\n",
       "    <tr>\n",
       "      <th>3</th>\n",
       "      <td>21st century wire yesterday judge anna brown h...</td>\n",
       "      <td>Middle-east</td>\n",
       "      <td>fake</td>\n",
       "    </tr>\n",
       "    <tr>\n",
       "      <th>4</th>\n",
       "      <td>former speaker of the house dennis hastert who...</td>\n",
       "      <td>News</td>\n",
       "      <td>fake</td>\n",
       "    </tr>\n",
       "  </tbody>\n",
       "</table>\n",
       "</div>"
      ],
      "text/plain": [
       "                                                text       subject target\n",
       "0  mexico city reuters  an overwhelming majority ...  politicsNews   true\n",
       "1  berlin reuters  brexit campaigner nigel farage...     worldnews   true\n",
       "2  hey mainstream media when are you going to tak...      politics   fake\n",
       "3  21st century wire yesterday judge anna brown h...   Middle-east   fake\n",
       "4  former speaker of the house dennis hastert who...          News   fake"
      ]
     },
     "execution_count": 11,
     "metadata": {},
     "output_type": "execute_result"
    }
   ],
   "source": [
    "# Check\n",
    "data.head()"
   ]
  },
  {
   "cell_type": "code",
   "execution_count": 12,
   "id": "aa86e550",
   "metadata": {},
   "outputs": [
    {
     "name": "stderr",
     "output_type": "stream",
     "text": [
      "[nltk_data] Downloading package stopwords to\n",
      "[nltk_data]     /Users/pranshav/nltk_data...\n",
      "[nltk_data]   Package stopwords is already up-to-date!\n"
     ]
    }
   ],
   "source": [
    "# Removing stopwords\n",
    "import nltk\n",
    "nltk.download('stopwords')\n",
    "from nltk.corpus import stopwords\n",
    "stop = stopwords.words('english')\n",
    "\n",
    "data['text'] = data['text'].apply(lambda x: ' '.join([word for word in x.split() if word not in (stop)]))"
   ]
  },
  {
   "cell_type": "code",
   "execution_count": 13,
   "id": "fdef1a95",
   "metadata": {},
   "outputs": [
    {
     "data": {
      "text/html": [
       "<div>\n",
       "<style scoped>\n",
       "    .dataframe tbody tr th:only-of-type {\n",
       "        vertical-align: middle;\n",
       "    }\n",
       "\n",
       "    .dataframe tbody tr th {\n",
       "        vertical-align: top;\n",
       "    }\n",
       "\n",
       "    .dataframe thead th {\n",
       "        text-align: right;\n",
       "    }\n",
       "</style>\n",
       "<table border=\"1\" class=\"dataframe\">\n",
       "  <thead>\n",
       "    <tr style=\"text-align: right;\">\n",
       "      <th></th>\n",
       "      <th>text</th>\n",
       "      <th>subject</th>\n",
       "      <th>target</th>\n",
       "    </tr>\n",
       "  </thead>\n",
       "  <tbody>\n",
       "    <tr>\n",
       "      <th>0</th>\n",
       "      <td>mexico city reuters overwhelming majority mexi...</td>\n",
       "      <td>politicsNews</td>\n",
       "      <td>true</td>\n",
       "    </tr>\n",
       "    <tr>\n",
       "      <th>1</th>\n",
       "      <td>berlin reuters brexit campaigner nigel farage ...</td>\n",
       "      <td>worldnews</td>\n",
       "      <td>true</td>\n",
       "    </tr>\n",
       "    <tr>\n",
       "      <th>2</th>\n",
       "      <td>hey mainstream media going take break manufact...</td>\n",
       "      <td>politics</td>\n",
       "      <td>fake</td>\n",
       "    </tr>\n",
       "    <tr>\n",
       "      <th>3</th>\n",
       "      <td>21st century wire yesterday judge anna brown h...</td>\n",
       "      <td>Middle-east</td>\n",
       "      <td>fake</td>\n",
       "    </tr>\n",
       "    <tr>\n",
       "      <th>4</th>\n",
       "      <td>former speaker house dennis hastert molested c...</td>\n",
       "      <td>News</td>\n",
       "      <td>fake</td>\n",
       "    </tr>\n",
       "  </tbody>\n",
       "</table>\n",
       "</div>"
      ],
      "text/plain": [
       "                                                text       subject target\n",
       "0  mexico city reuters overwhelming majority mexi...  politicsNews   true\n",
       "1  berlin reuters brexit campaigner nigel farage ...     worldnews   true\n",
       "2  hey mainstream media going take break manufact...      politics   fake\n",
       "3  21st century wire yesterday judge anna brown h...   Middle-east   fake\n",
       "4  former speaker house dennis hastert molested c...          News   fake"
      ]
     },
     "execution_count": 13,
     "metadata": {},
     "output_type": "execute_result"
    }
   ],
   "source": [
    "data.head()"
   ]
  },
  {
   "cell_type": "code",
   "execution_count": 14,
   "id": "3f391c22",
   "metadata": {},
   "outputs": [
    {
     "name": "stdout",
     "output_type": "stream",
     "text": [
      "subject\n",
      "Government News     1570\n",
      "Middle-east          778\n",
      "News                9050\n",
      "US_News              783\n",
      "left-news           4459\n",
      "politics            6841\n",
      "politicsNews       11272\n",
      "worldnews          10145\n",
      "Name: text, dtype: int64\n"
     ]
    },
    {
     "data": {
      "image/png": "[encoded data removed]",
      "text/plain": [
       "<Figure size 640x480 with 1 Axes>"
      ]
     },
     "metadata": {},
     "output_type": "display_data"
    }
   ],
   "source": [
    "# How many articles per subject?\n",
    "print(data.groupby(['subject'])['text'].count())\n",
    "data.groupby(['subject'])['text'].count().plot(kind=\"bar\")\n",
    "plt.show()"
   ]
  },
  {
   "cell_type": "code",
   "execution_count": 15,
   "id": "0d86f34d",
   "metadata": {},
   "outputs": [
    {
     "name": "stdout",
     "output_type": "stream",
     "text": [
      "target\n",
      "fake    23481\n",
      "true    21417\n",
      "Name: text, dtype: int64\n"
     ]
    },
    {
     "data": {
      "image/png": "[encoded data removed]",
      "text/plain": [
       "<Figure size 640x480 with 1 Axes>"
      ]
     },
     "metadata": {},
     "output_type": "display_data"
    }
   ],
   "source": [
    "# How many fake and real articles?\n",
    "print(data.groupby(['target'])['text'].count())\n",
    "data.groupby(['target'])['text'].count().plot(kind=\"bar\")\n",
    "plt.show()"
   ]
  },
  {
   "cell_type": "code",
   "execution_count": 16,
   "id": "cfdfeac1",
   "metadata": {},
   "outputs": [],
   "source": [
    "# Most frequent words counter   \n",
    "from nltk import tokenize\n",
    "\n",
    "token_space = tokenize.WhitespaceTokenizer()\n"
   ]
  },
  {
   "cell_type": "code",
   "execution_count": 17,
   "id": "702f17da",
   "metadata": {},
   "outputs": [],
   "source": [
    "# Function to plot the confusion matrix\n",
    "\n",
    "\n",
    "from sklearn import metrics\n",
    "import itertools\n",
    "\n",
    "def plot_confusion_matrix(cm, classes,\n",
    "                          normalize=False,\n",
    "                          title='Confusion matrix',\n",
    "                          cmap=plt.cm.Blues):\n",
    "\n",
    "    plt.imshow(cm, interpolation='nearest', cmap=cmap)\n",
    "    plt.imshow(cm,cmap=cmap)\n",
    "    plt.title(title)\n",
    "    plt.colorbar()\n",
    "    tick_marks = np.arange(len(classes))\n",
    "    plt.xticks(tick_marks, classes, rotation=45)\n",
    "    plt.yticks(tick_marks, classes)\n",
    "\n",
    "    if normalize:\n",
    "        cm = cm.astype('float') / cm.sum(axis=1)[:, np.newaxis]\n",
    "        print(\"Normalized confusion matrix\")\n",
    "    else:\n",
    "        print('Confusion matrix, without normalization')\n",
    "\n",
    "    thresh = cm.max() / 2.\n",
    "    for i, j in itertools.product(range(cm.shape[0]), range(cm.shape[1])):\n",
    "        plt.text(j, i, cm[i, j],\n",
    "                 horizontalalignment=\"center\",\n",
    "                 color=\"white\" if cm[i, j] > thresh else \"black\")\n",
    "\n",
    "    plt.tight_layout()\n",
    "    plt.ylabel('True label')\n",
    "    plt.xlabel('Predicted label')"
   ]
  },
  {
   "cell_type": "code",
   "execution_count": 18,
   "id": "d370ed0e",
   "metadata": {},
   "outputs": [],
   "source": [
    "# Split the data\n",
    "x_train,x_test,y_train,y_test = train_test_split(data['text'], data.target, test_size=0.2, random_state=42)\n"
   ]
  },
  {
   "cell_type": "code",
   "execution_count": 19,
   "id": "1a8c0485",
   "metadata": {},
   "outputs": [
    {
     "data": {
      "text/plain": [
       "36335    washington reuters facebook inc fbo chief oper...\n",
       "12384    new york reuters us presidentelect donald trum...\n",
       "24419    aboard air force one reuters white house wedne...\n",
       "24740    riga reuters european central bank ratesetter ...\n",
       "27039    campaign rally cedar rapids iowa republican pr...\n",
       "Name: text, dtype: object"
      ]
     },
     "execution_count": 19,
     "metadata": {},
     "output_type": "execute_result"
    }
   ],
   "source": [
    "x_train.head()"
   ]
  },
  {
   "cell_type": "code",
   "execution_count": 20,
   "id": "ddc1b6b8",
   "metadata": {},
   "outputs": [
    {
     "data": {
      "text/plain": [
       "36335    true\n",
       "12384    true\n",
       "24419    true\n",
       "24740    true\n",
       "27039    fake\n",
       "Name: target, dtype: object"
      ]
     },
     "execution_count": 20,
     "metadata": {},
     "output_type": "execute_result"
    }
   ],
   "source": [
    "y_train.head()"
   ]
  },
  {
   "cell_type": "code",
   "execution_count": 21,
   "id": "fc00d365",
   "metadata": {},
   "outputs": [],
   "source": [
    "dct={}"
   ]
  },
  {
   "cell_type": "code",
   "execution_count": 22,
   "id": "facb1337",
   "metadata": {},
   "outputs": [],
   "source": [
    "from sklearn.feature_extraction.text import TfidfVectorizer\n",
    "\n",
    "v = TfidfVectorizer()\n",
    "xv_train=v.fit_transform(x_train)\n",
    "xv_test=v.transform(x_test)"
   ]
  },
  {
   "cell_type": "code",
   "execution_count": 23,
   "id": "14c11d3a",
   "metadata": {},
   "outputs": [
    {
     "name": "stdout",
     "output_type": "stream",
     "text": [
      "  (0, 199315)\t0.014242471974951564\n",
      "  (0, 196478)\t0.060534226582108545\n",
      "  (0, 194535)\t0.019763635418839076\n",
      "  (0, 194327)\t0.03508132657758185\n",
      "  (0, 194099)\t0.029781992147347423\n",
      "  (0, 190162)\t0.11574749201700593\n",
      "  (0, 189313)\t0.04259126100396794\n",
      "  (0, 189004)\t0.019682832780570075\n",
      "  (0, 188929)\t0.030672348680545292\n",
      "  (0, 188024)\t0.05825738409399831\n",
      "  (0, 186093)\t0.04716797692092001\n",
      "  (0, 184895)\t0.038714605956807674\n",
      "  (0, 184076)\t0.06365522472259066\n",
      "  (0, 183600)\t0.04860663360671977\n",
      "  (0, 183197)\t0.1771241582598962\n",
      "  (0, 182710)\t0.017764233522407965\n",
      "  (0, 180893)\t0.0326546035082005\n",
      "  (0, 178553)\t0.03835616294763451\n",
      "  (0, 177118)\t0.03774087037209123\n",
      "  (0, 173471)\t0.031928682598854174\n",
      "  (0, 173400)\t0.08751687258400853\n",
      "  (0, 173390)\t0.16763956737003968\n",
      "  (0, 171626)\t0.01898827098605187\n",
      "  (0, 171471)\t0.023094591823754115\n",
      "  (0, 171304)\t0.03707274749451225\n",
      "  :\t:\n",
      "  (8979, 23868)\t0.0690823655466182\n",
      "  (8979, 23131)\t0.032562817952114374\n",
      "  (8979, 22432)\t0.033160741311393946\n",
      "  (8979, 21688)\t0.03916320979422997\n",
      "  (8979, 21067)\t0.02713523045730134\n",
      "  (8979, 19811)\t0.11490728247807382\n",
      "  (8979, 18975)\t0.08236565412373383\n",
      "  (8979, 18873)\t0.042775726598450546\n",
      "  (8979, 18107)\t0.08185225609255525\n",
      "  (8979, 16096)\t0.030449734570924893\n",
      "  (8979, 14773)\t0.04685817110595658\n",
      "  (8979, 14410)\t0.02996660921557653\n",
      "  (8979, 14164)\t0.026005347679948936\n",
      "  (8979, 13849)\t0.02646156717130818\n",
      "  (8979, 13167)\t0.03232282691030376\n",
      "  (8979, 12276)\t0.05527170504237582\n",
      "  (8979, 8280)\t0.07094896921117705\n",
      "  (8979, 7628)\t0.032393545064585604\n",
      "  (8979, 4179)\t0.023247565568184875\n",
      "  (8979, 3368)\t0.03943361857867179\n",
      "  (8979, 3366)\t0.02776529066775743\n",
      "  (8979, 1867)\t0.030208268002325005\n",
      "  (8979, 1164)\t0.03124873031064469\n",
      "  (8979, 427)\t0.042231487707100876\n",
      "  (8979, 425)\t0.027585111113131684\n",
      "22216    true\n",
      "27917    fake\n",
      "25007    fake\n",
      "1377     true\n",
      "32476    fake\n",
      "         ... \n",
      "42119    fake\n",
      "4068     true\n",
      "22498    fake\n",
      "14658    true\n",
      "15236    fake\n",
      "Name: target, Length: 8980, dtype: object\n"
     ]
    }
   ],
   "source": [
    "# print(y_train)\n",
    "# temp=y_train\n",
    "# temp=np.where(temp==\"fake\",0,1)\n",
    "# print(temp)\n",
    "print(xv_test)\n",
    "print(y_test)"
   ]
  },
  {
   "cell_type": "code",
   "execution_count": 24,
   "id": "a78d6297",
   "metadata": {},
   "outputs": [
    {
     "name": "stdout",
     "output_type": "stream",
     "text": [
      "0.9957683741648107\n",
      "accuracy: 99.58%\n"
     ]
    }
   ],
   "source": [
    "from sklearn.tree import DecisionTreeClassifier\n",
    "\n",
    "dt=DecisionTreeClassifier(max_features=None)\n",
    "dt.fit(xv_train,y_train)\n",
    "# Accuracy\n",
    "prediction = dt.predict(xv_test)\n",
    "#print(prediction)\n",
    "dt_score=dt.score(xv_test,y_test)\n",
    "print(dt_score)\n",
    "print(\"accuracy: {}%\".format(round(accuracy_score(y_test, prediction)*100,2)))\n"
   ]
  },
  {
   "cell_type": "code",
   "execution_count": 25,
   "id": "c4f645dc",
   "metadata": {},
   "outputs": [],
   "source": [
    "dct['Decision Tree'] = round(accuracy_score(y_test, prediction)*100,2)"
   ]
  },
  {
   "cell_type": "code",
   "execution_count": 26,
   "id": "9c77564b",
   "metadata": {},
   "outputs": [
    {
     "name": "stdout",
     "output_type": "stream",
     "text": [
      "Confusion matrix, without normalization\n"
     ]
    },
    {
     "data": {
      "image/png": "[encoded data removed]",
      "text/plain": [
       "<Figure size 640x480 with 2 Axes>"
      ]
     },
     "metadata": {},
     "output_type": "display_data"
    }
   ],
   "source": [
    "cm = metrics.confusion_matrix(y_test, prediction)\n",
    "plot_confusion_matrix(cm, classes=['Fake', 'Real'])"
   ]
  },
  {
   "cell_type": "code",
   "execution_count": 27,
   "id": "3002208e",
   "metadata": {},
   "outputs": [
    {
     "name": "stdout",
     "output_type": "stream",
     "text": [
      "36335    true\n",
      "12384    true\n",
      "24419    true\n",
      "24740    true\n",
      "27039    fake\n",
      "         ... \n",
      "11284    true\n",
      "44732    true\n",
      "38158    true\n",
      "860      fake\n",
      "15795    true\n",
      "Name: target, Length: 35918, dtype: object\n",
      "[1 1 1 ... 1 0 1]\n"
     ]
    }
   ],
   "source": [
    "print(y_train)\n",
    "temp=y_train\n",
    "temp=np.where(temp==\"fake\",0,1)\n",
    "print(temp)\n"
   ]
  },
  {
   "cell_type": "code",
   "execution_count": 28,
   "id": "c1d89bf4",
   "metadata": {},
   "outputs": [
    {
     "name": "stdout",
     "output_type": "stream",
     "text": [
      "0.989086859688196\n",
      "accuracy: 99.58%\n",
      "Confusion matrix, without normalization\n"
     ]
    },
    {
     "data": {
      "image/png": "[encoded data removed]",
      "text/plain": [
       "<Figure size 640x480 with 2 Axes>"
      ]
     },
     "metadata": {},
     "output_type": "display_data"
    }
   ],
   "source": [
    "#Logistic Regression\n",
    "\n",
    "from sklearn.linear_model import LogisticRegression\n",
    "\n",
    "lr=LogisticRegression()\n",
    "lr.fit(xv_train,y_train)\n",
    "pred_lr=lr.predict(xv_test)\n",
    "#print(pred_lr)\n",
    "lr_score=lr.score(xv_test,y_test)\n",
    "print(lr_score)\n",
    "dct['Logistic Regression'] = round(accuracy_score(y_test, prediction)*100,2)\n",
    "print(\"accuracy: {}%\".format(round(accuracy_score(y_test, prediction)*100,2)))\n",
    "#print(classification_report(y_test,pred_lr))\n",
    "\n",
    "cm = metrics.confusion_matrix(y_test, pred_lr)\n",
    "plot_confusion_matrix(cm, classes=['Fake', 'Real'])"
   ]
  },
  {
   "cell_type": "code",
   "execution_count": 29,
   "id": "79e072f1",
   "metadata": {},
   "outputs": [
    {
     "name": "stdout",
     "output_type": "stream",
     "text": [
      "0.9977728285077951\n",
      "accuracy: 99.78%\n",
      "Confusion matrix, without normalization\n"
     ]
    },
    {
     "data": {
      "image/png": "[encoded data removed]",
      "text/plain": [
       "<Figure size 640x480 with 2 Axes>"
      ]
     },
     "metadata": {},
     "output_type": "display_data"
    }
   ],
   "source": [
    "#XGBoost\n",
    "\n",
    "import xgboost as xgb\n",
    "from sklearn.model_selection import train_test_split\n",
    "from sklearn.preprocessing import LabelEncoder, OneHotEncoder\n",
    "\n",
    "# y_train=temp\n",
    "# np.where(temp=='fake',0,1)\n",
    "# print(temp)\n",
    "# Fitting XGBoost to the training data\n",
    "my_model = xgb.XGBClassifier()\n",
    "my_model.fit(xv_train,temp)\n",
    "temp2=y_test\n",
    "temp2=np.where(temp2==\"fake\",0,1)\n",
    "my_model_score=my_model.score(xv_test,temp2)\n",
    "# Predicting the Test set results\n",
    "y_pred = my_model.predict(xv_test)\n",
    "print(my_model_score)\n",
    "dct['XG Boost'] = round(accuracy_score(temp2, y_pred)*100,2)\n",
    "print(\"accuracy: {}%\".format(round(accuracy_score(temp2, y_pred)*100,2)))\n",
    "\n",
    "cm = metrics.confusion_matrix(temp2, y_pred)\n",
    "plot_confusion_matrix(cm, classes=['Fake', 'Real'])"
   ]
  },
  {
   "cell_type": "code",
   "execution_count": 30,
   "id": "7be24dc4",
   "metadata": {},
   "outputs": [
    {
     "name": "stdout",
     "output_type": "stream",
     "text": [
      "0.9973273942093541\n",
      "accuracy: 99.73%\n",
      "Confusion matrix, without normalization\n"
     ]
    },
    {
     "data": {
      "image/png": "[encoded data removed]",
      "text/plain": [
       "<Figure size 640x480 with 2 Axes>"
      ]
     },
     "metadata": {},
     "output_type": "display_data"
    }
   ],
   "source": [
    "#random forest classifier\n",
    "from sklearn.ensemble import RandomForestClassifier\n",
    "\n",
    "temp=y_train\n",
    "temp=np.where(temp==\"fake\",0,1)\n",
    "\n",
    "rfc = RandomForestClassifier(max_features=None)\n",
    "rfc.fit(xv_train,temp)\n",
    "prediction_rfc =rfc.predict(xv_test)\n",
    "temp2=y_test\n",
    "temp2=np.where(temp2==\"fake\",0,1)\n",
    "rfc_score=rfc.score(xv_test,temp2)\n",
    "#print(prediction)\n",
    "print(rfc_score)\n",
    "print(\"accuracy: {}%\".format(round(accuracy_score(temp2, prediction_rfc)*100,2)))\n",
    "dct['Random Forest'] = round(accuracy_score(temp2, prediction_rfc)*100,2)\n",
    "\n",
    "cm = metrics.confusion_matrix(temp2, prediction_rfc)\n",
    "plot_confusion_matrix(cm, classes=['Fake', 'Real'])"
   ]
  },
  {
   "cell_type": "code",
   "execution_count": 31,
   "id": "4b91579a",
   "metadata": {},
   "outputs": [
    {
     "name": "stdout",
     "output_type": "stream",
     "text": [
      "0.9961024498886414\n",
      "accuracy: 99.61%\n",
      "Confusion matrix, without normalization\n"
     ]
    },
    {
     "data": {
      "image/png": "[encoded data removed]",
      "text/plain": [
       "<Figure size 640x480 with 2 Axes>"
      ]
     },
     "metadata": {},
     "output_type": "display_data"
    }
   ],
   "source": [
    "#svm\n",
    "\n",
    "from sklearn import svm\n",
    "\n",
    "temp=y_train\n",
    "temp=np.where(temp==\"fake\",0,1)\n",
    "\n",
    "temp2=y_test\n",
    "temp2=np.where(temp2==\"fake\",0,1)\n",
    "\n",
    "sv=svm.SVC(kernel='linear')\n",
    "sv.fit(xv_train,temp)\n",
    "prediction_svm=sv.predict(xv_test)\n",
    "sv_score=sv.score(xv_test,temp2)\n",
    "print(sv_score)\n",
    "print(\"accuracy: {}%\".format(round(accuracy_score(temp2, prediction_svm)*100,2)))\n",
    "dct['SVM'] = round(accuracy_score(temp2, prediction_svm)*100,2)\n",
    "\n",
    "cm = metrics.confusion_matrix(temp2, prediction_svm)\n",
    "plot_confusion_matrix(cm, classes=['Fake', 'Real'])"
   ]
  },
  {
   "cell_type": "code",
   "execution_count": 32,
   "id": "88e615e6",
   "metadata": {},
   "outputs": [
    {
     "name": "stderr",
     "output_type": "stream",
     "text": [
      "/Users/pranshav/opt/anaconda3/lib/python3.9/site-packages/sklearn/naive_bayes.py:555: UserWarning: alpha too small will result in numeric errors, setting alpha = 1.0e-10\n",
      "  warnings.warn(\n"
     ]
    },
    {
     "name": "stdout",
     "output_type": "stream",
     "text": [
      "<bound method ClassifierMixin.score of MultinomialNB(alpha=0.0)>\n",
      "accuracy: 97.64%\n",
      "Confusion matrix, without normalization\n"
     ]
    },
    {
     "data": {
      "image/png": "[encoded data removed]",
      "text/plain": [
       "<Figure size 640x480 with 2 Axes>"
      ]
     },
     "metadata": {},
     "output_type": "display_data"
    }
   ],
   "source": [
    "#naive bayes\n",
    "from sklearn.naive_bayes import MultinomialNB\n",
    "\n",
    "temp=y_train\n",
    "temp=np.where(temp==\"fake\",0,1)\n",
    "\n",
    "nb=MultinomialNB(alpha=0.0)\n",
    "nb.fit(xv_train,temp)\n",
    "prediction_nb=nb.predict(xv_test)\n",
    "#print(prediction_nb)\n",
    "\n",
    "# print(y_test)\n",
    "# print(temp)\n",
    "nb_score=nb.score(xv_test,temp2)\n",
    "print(nb.score)\n",
    "print(\"accuracy: {}%\".format(round(accuracy_score(temp2, prediction_nb)*100,2)))\n",
    "dct['Naive Bayes'] = round(accuracy_score(temp2, prediction_nb)*100,2)\n",
    "\n",
    "cm = metrics.confusion_matrix(temp2, prediction_nb)\n",
    "plot_confusion_matrix(cm, classes=['Fake', 'Real'])"
   ]
  },
  {
   "cell_type": "code",
   "execution_count": 33,
   "id": "dabcf0e6",
   "metadata": {},
   "outputs": [
    {
     "name": "stdout",
     "output_type": "stream",
     "text": [
      "Enter news: Rahul Gandhi becomes the President of the United States of America\n",
      " \n",
      "Using Logisitic Regression : FAKE NEWS \n",
      "Using Decison Tree Classifier : FAKE NEWS \n",
      "Using Xgboost : FAKE NEWS\n",
      "Using SVM : FAKE NEWS\n",
      "Using Naive Bayes : TRUE NEWS\n",
      "Using Random Forest : FAKE NEWS\n"
     ]
    }
   ],
   "source": [
    "def fake_news(news):\n",
    "    news=remove_punct(news)\n",
    "    input_data=[news]\n",
    "    ser = pd.Series(input_data)\n",
    "    ser=ser.apply(lambda x: ' '.join([word for word in x.split() if word not in (stop)]))\n",
    "    v_inputdata=v.transform(ser)\n",
    "    #v_inputdata=v.transform(input_data)\n",
    "    prediction=lr.predict(v_inputdata)\n",
    "    if(prediction[0]==\"true\"):\n",
    "        print(\"Using Logisitic Regression : {} \".format(\"TRUE NEWS\"))\n",
    "    else:\n",
    "        print(\"Using Logisitic Regression : {} \".format(\"FAKE NEWS\"))\n",
    "        \n",
    "    prediction2=dt.predict(v_inputdata)\n",
    "    if(prediction2[0]==\"true\"):\n",
    "        print(\"Using Decison Tree Classifier : {} \".format(\"TRUE NEWS\"))\n",
    "    else:\n",
    "        print(\"Using Decison Tree Classifier : {} \".format(\"FAKE NEWS\"))\n",
    "    \n",
    "    \n",
    "    prediction3=my_model.predict(v_inputdata)\n",
    "    if(prediction3==0):\n",
    "        print(\"Using Xgboost : {}\".format(\"FAKE NEWS\"))\n",
    "    else:\n",
    "        print(\"Using Xgboost : {}\".format(\"TRUE NEWS\"))\n",
    "   \n",
    "    \n",
    "    prediction4=sv.predict(v_inputdata)\n",
    "    if(prediction4==0):\n",
    "        print(\"Using SVM : {}\".format(\"FAKE NEWS\"))\n",
    "    else:\n",
    "        print(\"Using SVM : {}\".format(\"TRUE NEWS\"))\n",
    "    \n",
    "    \n",
    "    prediction5=nb.predict(v_inputdata)\n",
    "    if(prediction5==0):\n",
    "        print(\"Using Naive Bayes : {}\".format(\"FAKE NEWS\"))\n",
    "    else:\n",
    "        print(\"Using Naive Bayes : {}\".format(\"TRUE NEWS\"))\n",
    "    \n",
    "    \n",
    "    \n",
    "    prediction6=rfc.predict(v_inputdata)\n",
    "    if(prediction6==0):\n",
    "        print(\"Using Random Forest : {}\".format(\"FAKE NEWS\"))\n",
    "    else:\n",
    "        print(\"Using Random Forest : {}\".format(\"TRUE NEWS\"))\n",
    "   \n",
    "    \n",
    "    \n",
    "    \n",
    "news=input(\"Enter news: \")\n",
    "print(\" \")\n",
    "fake_news(news)"
   ]
  },
  {
   "cell_type": "code",
   "execution_count": 34,
   "id": "d6c7b018",
   "metadata": {},
   "outputs": [
    {
     "name": "stderr",
     "output_type": "stream",
     "text": [
      "/var/folders/_9/jw1y4dtj76q3dkbbnyn82pd40000gn/T/ipykernel_51932/3857541561.py:16: UserWarning: FixedFormatter should only be used together with FixedLocator\n",
      "  ax.set_xticklabels(labels, rotation=0)\n"
     ]
    },
    {
     "data": {
      "image/png": "[encoded data removed]",
      "text/plain": [
       "<Figure size 800x700 with 1 Axes>"
      ]
     },
     "metadata": {},
     "output_type": "display_data"
    }
   ],
   "source": [
    "#compare all algos\n",
    "\n",
    "import matplotlib.pyplot as plt\n",
    "\n",
    "def addlabels(x,y):\n",
    "    for i in range(len(x)):\n",
    "        plt.text(i, y[i], y[i], ha = 'center')\n",
    "        \n",
    "import textwrap\n",
    "def wrap_labels(ax, width, break_long_words=False):\n",
    "    labels = []\n",
    "    for label in ax.get_xticklabels():\n",
    "        text = label.get_text()\n",
    "        labels.append(textwrap.fill(text, width=width,\n",
    "                      break_long_words=break_long_words))\n",
    "    ax.set_xticklabels(labels, rotation=0)\n",
    "    \n",
    "plt.figure(figsize=(8,7))\n",
    "plt.bar(list(dct.keys()),list(dct.values()))\n",
    "plt.ylim(80,100)\n",
    "plt.yticks(range(80,103))\n",
    "ax= plt.subplot()\n",
    "addlabels(list(dct.keys()),list(dct.values()))\n",
    "wrap_labels(ax,10)\n",
    "plt.title(\"Accuracy Comparison of different algorithms\")\n",
    "plt.show()"
   ]
  }
 ],
 "metadata": {
  "kernelspec": {
   "display_name": "Python 3 (ipykernel)",
   "language": "python",
   "name": "python3"
  },
  "language_info": {
   "codemirror_mode": {
    "name": "ipython",
    "version": 3
   },
   "file_extension": ".py",
   "mimetype": "text/x-python",
   "name": "python",
   "nbconvert_exporter": "python",
   "pygments_lexer": "ipython3",
   "version": "3.9.13"
  }
 },
 "nbformat": 4,
 "nbformat_minor": 5
}
